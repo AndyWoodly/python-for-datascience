{
 "cells": [
  {
   "cell_type": "markdown",
   "metadata": {},
   "source": [
    "# Task 1\n",
    "\n",
    "Determine the number of lines in file `SF_Civic_Art_Collection.csv`.\n",
    "\n",
    "1. Open file `SF_Civic_Art_Collection.csv`\n",
    "1. Read in file line by line\n",
    "1. Use a counter variable to count the number of lines\n",
    "\n",
    "**Use**\n",
    "\n",
    "```\n",
    "open()\n",
    "readlines()\n",
    "for loop\n",
    "```\n",
    "\n",
    "## Documentation\n",
    "[open()](https://docs.python.org/2/library/functions.html#open),\n",
    "[readlines()](https://docs.python.org/2/library/stdtypes.html#file.readlines)\n",
    "\n",
    "## Hints\n",
    "Explore the file using shell commands, e.g. look at the top 3 lines:\n",
    "```\n",
    "!head -3 SF_Civic_Art_Collection.csv\n",
    "```\n",
    "\n",
    "(data source: https://data.sfgov.org/Culture-and-Recreation/SF-Civic-Art-Collection/zfw6-95su)"
   ]
  },
  {
   "cell_type": "code",
   "execution_count": null,
   "metadata": {
    "collapsed": true
   },
   "outputs": [],
   "source": []
  },
  {
   "cell_type": "markdown",
   "metadata": {},
   "source": [
    "# Task 2\n",
    "\n",
    "Count the number of lines that contain `Bronze` as medium.\n",
    "\n",
    "**Use**\n",
    "\n",
    "```\n",
    "in string operator\n",
    "```\n",
    "\n",
    "## Hints\n",
    "\n",
    "Ignore parsing for occurance in medium column for now.\n",
    "\n"
   ]
  },
  {
   "cell_type": "code",
   "execution_count": null,
   "metadata": {
    "collapsed": true
   },
   "outputs": [],
   "source": []
  }
 ],
 "metadata": {
  "anaconda-cloud": {},
  "kernelspec": {
   "display_name": "Python [default]",
   "language": "python",
   "name": "python2"
  },
  "language_info": {
   "codemirror_mode": {
    "name": "ipython",
    "version": 2
   },
   "file_extension": ".py",
   "mimetype": "text/x-python",
   "name": "python",
   "nbconvert_exporter": "python",
   "pygments_lexer": "ipython2",
   "version": "2.7.12"
  }
 },
 "nbformat": 4,
 "nbformat_minor": 2
}
