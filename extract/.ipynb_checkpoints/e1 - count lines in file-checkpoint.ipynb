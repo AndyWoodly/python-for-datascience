{
 "cells": [
  {
   "cell_type": "markdown",
   "metadata": {},
   "source": [
    "# Task\n",
    "\n",
    "Determine the number of lines in a file `SF_Civic_Art_Collection.csv`.\n",
    "\n",
    "1. Open file `SF_Civic_Art_Collection.csv`\n",
    "1. Read in file line by line\n",
    "1. Use a counter variable to count the number of lines\n",
    "\n",
    "\n",
    "(data source: https://data.sfgov.org/Culture-and-Recreation/SF-Civic-Art-Collection/zfw6-95su)"
   ]
  },
  {
   "cell_type": "code",
   "execution_count": 1,
   "metadata": {
    "collapsed": false
   },
   "outputs": [
    {
     "name": "stdout",
     "output_type": "stream",
     "text": [
      "_id_,_rev,accession_id,artist,created_at,credit_line,display_dimensions,geometry,location_description,medium,source,title,Location 1\r\n",
      "_id,_rev,accession_id,artist,created_at,credit_line,display_dimensions,geometry,location_description,medium,source,title,\r\n",
      "63daabb62278559f8a0643be882613c5,2-2a0d31161230cdd59c47cbf4459ad806,1995.18,\"Acconci, Saitowitz and Soloman\",01/01/1970 12:33:15 AM +0000,Commissioned by the San Francisco Art Commission for the Waterfront Project.,2 1/2 miles X 5 feet,\"{\"\"type\"\":\"\"Point\"\",\"\"coordinates\"\":[-122.4120591,37.8085303]}\",Public Display : District 3 : Embarcadero/Waterfront,\"Black concrete, with a strip of glass blocks, to be illuminated at night\",San Francisco Arts Commission,Promenade Ribbon,\r\n",
      "63daabb62278559f8a0643be88261503,2-8418bc9b09e27aba350721c0de8b98ee,1986.2,\"Acconci, Vito\",1979-1981,Purchased by the San Francisco Art Commission for the San Francisco International Airport,\"26 1/2\"\" H X 41\"\" W\",\"{\"\"type\"\":\"\"Point\"\",\"\"coordinates\"\":[-122.389979,37.615223]}\",International Airport : T3 : Lower Level,Etching on Paper,San Francisco Arts Commission,Two Wings for Wall and Person,\r\n",
      "63daabb62278559f8a0643be88261cca,2-673d0a4a69a242adeb9852979da1e295,2002.7,\"Acconci, Vito\",01/01/1970 12:33:22 AM +0000,Commission for the San Francisco International Airport by the San Francisco Arts Commission,,\"{\"\"type\"\":\"\"Point\"\",\"\"coordinates\"\":[-122.389979,37.615223]}\",\"Airport : International Terminal, transfer corridor\",mixed medium,San Francisco Arts Commission,Light Beams for the Sky of Transfer Cooridor,\r\n",
      "63daabb62278559f8a0643be8826291a,2-7ffc3bec57f459d5e478899e0f129bf0,1977.33,\"Adams, Gloria Cozzo\",01/01/1970 12:32:57 AM +0000,Purchased by the San Francisco Art Commission for the San Francisco International Airport,481/2,\"{\"\"type\"\":\"\"Point\"\",\"\"coordinates\"\":[-122.389979,37.615223]}\",Airport : Business and Finance,Acrylic and ink on canvas,San Francisco Arts Commission,Cityscape #33,\r\n",
      "63daabb62278559f8a0643be88262f39,2-b62dd5bf7e5f6b7e8a62cd78a216d052,1985.5.3,\"Adams, Mark\",01/01/1970 12:33:02 AM +0000,Purchased by the San Francisco Art Commission for the San Francisco International Airport,\"84\"\" H X 144\"\" W\",\"{\"\"type\"\":\"\"Point\"\",\"\"coordinates\"\":[-122.389979,37.615223]}\",Airport : Terminal 2 : Meeting Area,Flat weave wool tapestry,San Francisco Arts Commission,Garden Outside the Gate (The Garden Tapestries),\r\n",
      "63daabb62278559f8a0643be88263e67,2-0857c73da09a7df8750689d22872110d,1985.5.2,\"Adams, Mark\",1981-1983,Purchased by the San Francisco Art Commission for the San Francisco International Airport,\"84\"\" H X 204\"\" W\",\"{\"\"type\"\":\"\"Point\"\",\"\"coordinates\"\":[-122.389979,37.615223]}\",Airport : Terminal 2 : Meeting Area,Flat weave wool tapestry,San Francisco Arts Commission,Garden in San Andreas Valley (The Garden Tapestries),\r\n",
      "63daabb62278559f8a0643be882646e1,2-710e5caa71a55fd99577ae8e3a7ccbbf,1985.5.1,\"Adams, Mark\",01/01/1970 12:33:01 AM +0000,Purchased by the San Francisco Art Commission for the San Francisco International Airport,\"84\"\" H X 96\"\" W\",\"{\"\"type\"\":\"\"Point\"\",\"\"coordinates\"\":[-122.389979,37.615223]}\",Airport : Terminal 2 : Meeting Area,Flat weave wool tapestry,San Francisco Arts Commission,Pond in Golden Gate Park (The Garden Tapestries),\r\n",
      "63daabb62278559f8a0643be88264f4a,2-6656bcb2f49f1ca2587677345cacf7b1,1902.1,\"Aitken, Robert Ingersoll\",01/01/1970 12:31:41 AM +0000,Funds raised by public subscription.  Dedicated by President Theodore Roosevelt.,Figure: 12' H; Shaft: 83' H,\"{\"\"type\"\":\"\"Point\"\",\"\"coordinates\"\":[-122.4075,37.7880556]}\",Public Display : District 6 : Union Square,Bronze figure on granite base,San Francisco Arts Commission,\"The Dewey Monument (Admiral George Dewey, 1837-1917)\",\r\n"
     ]
    }
   ],
   "source": [
    "!head SF_Civic_Art_Collection.csv"
   ]
  },
  {
   "cell_type": "code",
   "execution_count": null,
   "metadata": {
    "collapsed": true
   },
   "outputs": [],
   "source": []
  }
 ],
 "metadata": {
  "kernelspec": {
   "display_name": "Python 2",
   "language": "python",
   "name": "python2"
  },
  "language_info": {
   "codemirror_mode": {
    "name": "ipython",
    "version": 2
   },
   "file_extension": ".py",
   "mimetype": "text/x-python",
   "name": "python",
   "nbconvert_exporter": "python",
   "pygments_lexer": "ipython2",
   "version": "2.7.13"
  }
 },
 "nbformat": 4,
 "nbformat_minor": 2
}
